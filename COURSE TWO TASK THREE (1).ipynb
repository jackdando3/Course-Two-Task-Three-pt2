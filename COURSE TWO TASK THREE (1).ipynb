{
 "cells": [
  {
   "cell_type": "code",
   "execution_count": 1,
   "id": "b9ad5275",
   "metadata": {},
   "outputs": [],
   "source": [
    "import numpy as np\n",
    "import pandas as pd\n",
    "import scipy\n",
    "from math import sqrt\n",
    "import matplotlib.pyplot as plt"
   ]
  },
  {
   "cell_type": "code",
   "execution_count": 2,
   "id": "257d3c81",
   "metadata": {},
   "outputs": [],
   "source": [
    "from sklearn.ensemble import RandomForestRegressor\n",
    "from sklearn.linear_model import LinearRegression\n",
    "from sklearn.svm import SVR"
   ]
  },
  {
   "cell_type": "code",
   "execution_count": 3,
   "id": "eeb7972e",
   "metadata": {},
   "outputs": [],
   "source": [
    "from sklearn.metrics import mean_squared_error\n",
    "from sklearn.metrics import r2_score"
   ]
  },
  {
   "cell_type": "code",
   "execution_count": 4,
   "id": "f4cd48a8",
   "metadata": {},
   "outputs": [],
   "source": [
    "from sklearn.model_selection import train_test_split"
   ]
  },
  {
   "cell_type": "code",
   "execution_count": 5,
   "id": "129e6409",
   "metadata": {},
   "outputs": [],
   "source": [
    "rawData = pd.read_csv('credit2.csv')"
   ]
  },
  {
   "cell_type": "markdown",
   "id": "d402d8eb",
   "metadata": {},
   "source": [
    "## Jack  the feature names are not correct in your project. Please address this before trying again to create your script and report\" Also, regresssion ML with limit balance as the dependant is ONLY the first requirement. You should also attempt classification ML with limit balance as the dependant AND classification ML with Default as the dependant. \n",
    "\n",
    "## Your report itself is devoid of project summary and goals. Namely these(from C2/T1 project email): Over the past year or so Credit One has seen an increase in the number of customers who have defaulted on loans they have secured from various partners, and Credit One, as their credit scoring service, could risk losing business if the problem is not solved right away. The bottom line is they need a much better way to understand how much credit to allow someone to use or, at the very least, if someone should be approved or not. \n"
   ]
  },
  {
   "cell_type": "code",
   "execution_count": 6,
   "id": "f5b9f830",
   "metadata": {},
   "outputs": [
    {
     "data": {
      "text/html": [
       "<div>\n",
       "<style scoped>\n",
       "    .dataframe tbody tr th:only-of-type {\n",
       "        vertical-align: middle;\n",
       "    }\n",
       "\n",
       "    .dataframe tbody tr th {\n",
       "        vertical-align: top;\n",
       "    }\n",
       "\n",
       "    .dataframe thead th {\n",
       "        text-align: right;\n",
       "    }\n",
       "</style>\n",
       "<table border=\"1\" class=\"dataframe\">\n",
       "  <thead>\n",
       "    <tr style=\"text-align: right;\">\n",
       "      <th></th>\n",
       "      <th>ID</th>\n",
       "      <th>LIMIT_BAL</th>\n",
       "      <th>SEX</th>\n",
       "      <th>EDUCATION</th>\n",
       "      <th>MARRIAGE</th>\n",
       "      <th>AGE</th>\n",
       "      <th>PAY_0</th>\n",
       "      <th>PAY_2</th>\n",
       "      <th>PAY_3</th>\n",
       "      <th>PAY_4</th>\n",
       "      <th>...</th>\n",
       "      <th>BILL_AMT4</th>\n",
       "      <th>BILL_AMT5</th>\n",
       "      <th>BILL_AMT6</th>\n",
       "      <th>PAY_AMT1</th>\n",
       "      <th>PAY_AMT2</th>\n",
       "      <th>PAY_AMT3</th>\n",
       "      <th>PAY_AMT4</th>\n",
       "      <th>PAY_AMT5</th>\n",
       "      <th>PAY_AMT6</th>\n",
       "      <th>default payment next month</th>\n",
       "    </tr>\n",
       "  </thead>\n",
       "  <tbody>\n",
       "    <tr>\n",
       "      <th>0</th>\n",
       "      <td>1.0</td>\n",
       "      <td>20000</td>\n",
       "      <td>female</td>\n",
       "      <td>university</td>\n",
       "      <td>1</td>\n",
       "      <td>24</td>\n",
       "      <td>2</td>\n",
       "      <td>2</td>\n",
       "      <td>-1</td>\n",
       "      <td>-1</td>\n",
       "      <td>...</td>\n",
       "      <td>0</td>\n",
       "      <td>0</td>\n",
       "      <td>0</td>\n",
       "      <td>0</td>\n",
       "      <td>689</td>\n",
       "      <td>0</td>\n",
       "      <td>0</td>\n",
       "      <td>0</td>\n",
       "      <td>0</td>\n",
       "      <td>default</td>\n",
       "    </tr>\n",
       "    <tr>\n",
       "      <th>1</th>\n",
       "      <td>2.0</td>\n",
       "      <td>120000</td>\n",
       "      <td>female</td>\n",
       "      <td>university</td>\n",
       "      <td>2</td>\n",
       "      <td>26</td>\n",
       "      <td>-1</td>\n",
       "      <td>2</td>\n",
       "      <td>0</td>\n",
       "      <td>0</td>\n",
       "      <td>...</td>\n",
       "      <td>3272</td>\n",
       "      <td>3455</td>\n",
       "      <td>3261</td>\n",
       "      <td>0</td>\n",
       "      <td>1000</td>\n",
       "      <td>1000</td>\n",
       "      <td>1000</td>\n",
       "      <td>0</td>\n",
       "      <td>2000</td>\n",
       "      <td>default</td>\n",
       "    </tr>\n",
       "    <tr>\n",
       "      <th>2</th>\n",
       "      <td>3.0</td>\n",
       "      <td>90000</td>\n",
       "      <td>female</td>\n",
       "      <td>university</td>\n",
       "      <td>2</td>\n",
       "      <td>34</td>\n",
       "      <td>0</td>\n",
       "      <td>0</td>\n",
       "      <td>0</td>\n",
       "      <td>0</td>\n",
       "      <td>...</td>\n",
       "      <td>14331</td>\n",
       "      <td>14948</td>\n",
       "      <td>15549</td>\n",
       "      <td>1518</td>\n",
       "      <td>1500</td>\n",
       "      <td>1000</td>\n",
       "      <td>1000</td>\n",
       "      <td>1000</td>\n",
       "      <td>5000</td>\n",
       "      <td>not default</td>\n",
       "    </tr>\n",
       "    <tr>\n",
       "      <th>3</th>\n",
       "      <td>4.0</td>\n",
       "      <td>50000</td>\n",
       "      <td>female</td>\n",
       "      <td>university</td>\n",
       "      <td>1</td>\n",
       "      <td>37</td>\n",
       "      <td>0</td>\n",
       "      <td>0</td>\n",
       "      <td>0</td>\n",
       "      <td>0</td>\n",
       "      <td>...</td>\n",
       "      <td>28314</td>\n",
       "      <td>28959</td>\n",
       "      <td>29547</td>\n",
       "      <td>2000</td>\n",
       "      <td>2019</td>\n",
       "      <td>1200</td>\n",
       "      <td>1100</td>\n",
       "      <td>1069</td>\n",
       "      <td>1000</td>\n",
       "      <td>not default</td>\n",
       "    </tr>\n",
       "    <tr>\n",
       "      <th>4</th>\n",
       "      <td>5.0</td>\n",
       "      <td>50000</td>\n",
       "      <td>male</td>\n",
       "      <td>university</td>\n",
       "      <td>1</td>\n",
       "      <td>57</td>\n",
       "      <td>-1</td>\n",
       "      <td>0</td>\n",
       "      <td>-1</td>\n",
       "      <td>0</td>\n",
       "      <td>...</td>\n",
       "      <td>20940</td>\n",
       "      <td>19146</td>\n",
       "      <td>19131</td>\n",
       "      <td>2000</td>\n",
       "      <td>36681</td>\n",
       "      <td>10000</td>\n",
       "      <td>9000</td>\n",
       "      <td>689</td>\n",
       "      <td>679</td>\n",
       "      <td>not default</td>\n",
       "    </tr>\n",
       "  </tbody>\n",
       "</table>\n",
       "<p>5 rows × 25 columns</p>\n",
       "</div>"
      ],
      "text/plain": [
       "    ID  LIMIT_BAL     SEX   EDUCATION  MARRIAGE  AGE  PAY_0  PAY_2  PAY_3  \\\n",
       "0  1.0      20000  female  university         1   24      2      2     -1   \n",
       "1  2.0     120000  female  university         2   26     -1      2      0   \n",
       "2  3.0      90000  female  university         2   34      0      0      0   \n",
       "3  4.0      50000  female  university         1   37      0      0      0   \n",
       "4  5.0      50000    male  university         1   57     -1      0     -1   \n",
       "\n",
       "   PAY_4  ...  BILL_AMT4  BILL_AMT5  BILL_AMT6  PAY_AMT1  PAY_AMT2  PAY_AMT3  \\\n",
       "0     -1  ...          0          0          0         0       689         0   \n",
       "1      0  ...       3272       3455       3261         0      1000      1000   \n",
       "2      0  ...      14331      14948      15549      1518      1500      1000   \n",
       "3      0  ...      28314      28959      29547      2000      2019      1200   \n",
       "4      0  ...      20940      19146      19131      2000     36681     10000   \n",
       "\n",
       "   PAY_AMT4  PAY_AMT5  PAY_AMT6  default payment next month  \n",
       "0         0         0         0                     default  \n",
       "1      1000         0      2000                     default  \n",
       "2      1000      1000      5000                 not default  \n",
       "3      1100      1069      1000                 not default  \n",
       "4      9000       689       679                 not default  \n",
       "\n",
       "[5 rows x 25 columns]"
      ]
     },
     "execution_count": 6,
     "metadata": {},
     "output_type": "execute_result"
    }
   ],
   "source": [
    "rawData.head()"
   ]
  },
  {
   "cell_type": "code",
   "execution_count": 7,
   "id": "1f865363",
   "metadata": {},
   "outputs": [
    {
     "name": "stdout",
     "output_type": "stream",
     "text": [
      "<class 'pandas.core.frame.DataFrame'>\n",
      "RangeIndex: 30000 entries, 0 to 29999\n",
      "Data columns (total 25 columns):\n",
      " #   Column                      Non-Null Count  Dtype  \n",
      "---  ------                      --------------  -----  \n",
      " 0   ID                          30000 non-null  float64\n",
      " 1   LIMIT_BAL                   30000 non-null  int64  \n",
      " 2   SEX                         30000 non-null  object \n",
      " 3   EDUCATION                   30000 non-null  object \n",
      " 4   MARRIAGE                    30000 non-null  int64  \n",
      " 5   AGE                         30000 non-null  int64  \n",
      " 6   PAY_0                       30000 non-null  int64  \n",
      " 7   PAY_2                       30000 non-null  int64  \n",
      " 8   PAY_3                       30000 non-null  int64  \n",
      " 9   PAY_4                       30000 non-null  int64  \n",
      " 10  PAY_5                       30000 non-null  int64  \n",
      " 11  PAY_6                       30000 non-null  int64  \n",
      " 12  BILL_AMT1                   30000 non-null  int64  \n",
      " 13  BILL_AMT2                   30000 non-null  int64  \n",
      " 14  BILL_AMT3                   30000 non-null  int64  \n",
      " 15  BILL_AMT4                   30000 non-null  int64  \n",
      " 16  BILL_AMT5                   30000 non-null  int64  \n",
      " 17  BILL_AMT6                   30000 non-null  int64  \n",
      " 18  PAY_AMT1                    30000 non-null  int64  \n",
      " 19  PAY_AMT2                    30000 non-null  int64  \n",
      " 20  PAY_AMT3                    30000 non-null  int64  \n",
      " 21  PAY_AMT4                    30000 non-null  int64  \n",
      " 22  PAY_AMT5                    30000 non-null  int64  \n",
      " 23  PAY_AMT6                    30000 non-null  int64  \n",
      " 24  default payment next month  30000 non-null  object \n",
      "dtypes: float64(1), int64(21), object(3)\n",
      "memory usage: 5.7+ MB\n"
     ]
    }
   ],
   "source": [
    "rawData.info()"
   ]
  },
  {
   "cell_type": "code",
   "execution_count": 8,
   "id": "53e749f0",
   "metadata": {},
   "outputs": [],
   "source": [
    "X = rawData.iloc[:, 5:15]"
   ]
  },
  {
   "cell_type": "code",
   "execution_count": 9,
   "id": "d881208f",
   "metadata": {},
   "outputs": [],
   "source": [
    "y = rawData.iloc[:,1]"
   ]
  },
  {
   "cell_type": "code",
   "execution_count": 10,
   "id": "e9464220",
   "metadata": {},
   "outputs": [],
   "source": [
    "model = LinearRegression(n_jobs=10)"
   ]
  },
  {
   "cell_type": "code",
   "execution_count": 11,
   "id": "10d9eb25",
   "metadata": {},
   "outputs": [
    {
     "name": "stdout",
     "output_type": "stream",
     "text": [
      "0         20000\n",
      "1        120000\n",
      "2         90000\n",
      "3         50000\n",
      "4         50000\n",
      "          ...  \n",
      "29995    220000\n",
      "29996    150000\n",
      "29997     30000\n",
      "29998     80000\n",
      "29999     50000\n",
      "Name: LIMIT_BAL, Length: 30000, dtype: int64\n"
     ]
    }
   ],
   "source": [
    "print(y)"
   ]
  },
  {
   "cell_type": "code",
   "execution_count": 12,
   "id": "f8a7adee",
   "metadata": {},
   "outputs": [],
   "source": [
    "from sklearn.model_selection import cross_val_score"
   ]
  },
  {
   "cell_type": "code",
   "execution_count": 13,
   "id": "ea59d567",
   "metadata": {},
   "outputs": [
    {
     "name": "stdout",
     "output_type": "stream",
     "text": [
      "[0.25364461 0.27165371 0.26841778]\n"
     ]
    }
   ],
   "source": [
    "print(cross_val_score(model, X, y, cv=3))"
   ]
  },
  {
   "cell_type": "code",
   "execution_count": 14,
   "id": "cb5624ce",
   "metadata": {},
   "outputs": [],
   "source": [
    "algosClass = []\n",
    "\n",
    "algosClass.append(('Random Forest Regressor',RandomForestRegressor()))\n",
    "\n",
    "algosClass.append(('Linear Regression',LinearRegression()))\n",
    "\n",
    "algosClass.append(('Support Vector Regression',SVR()))"
   ]
  },
  {
   "cell_type": "code",
   "execution_count": 15,
   "id": "a9bd630e",
   "metadata": {},
   "outputs": [],
   "source": [
    "results = []\n",
    "names = []\n",
    "for name, model in algosClass:\n",
    "    result = cross_val_score(model, X,y, cv=3, scoring='r2')\n",
    "    names.append(name)\n",
    "    results.append(result)"
   ]
  },
  {
   "cell_type": "code",
   "execution_count": 16,
   "id": "1a741a7b",
   "metadata": {
    "scrolled": true
   },
   "outputs": [
    {
     "name": "stdout",
     "output_type": "stream",
     "text": [
      "Random Forest Regressor 0.3772286410450873\n",
      "Linear Regression 0.26457203420147407\n",
      "Support Vector Regression -0.05089900127122745\n"
     ]
    }
   ],
   "source": [
    "for i in range(len(names)):\n",
    "    print(names[i],results[i].mean())"
   ]
  },
  {
   "cell_type": "code",
   "execution_count": 17,
   "id": "c6b3567e",
   "metadata": {},
   "outputs": [],
   "source": [
    "algo = LinearRegression()"
   ]
  },
  {
   "cell_type": "code",
   "execution_count": 18,
   "id": "73b2df61",
   "metadata": {},
   "outputs": [],
   "source": [
    "import numpy as np\n",
    "from sklearn.model_selection import train_test_split"
   ]
  },
  {
   "cell_type": "code",
   "execution_count": 19,
   "id": "d8f05530",
   "metadata": {},
   "outputs": [],
   "source": [
    "X_train, X_test, y_train, y_test = train_test_split(X, y, test_size=0.25, random_state=42)"
   ]
  },
  {
   "cell_type": "code",
   "execution_count": 20,
   "id": "aa22b98c",
   "metadata": {},
   "outputs": [],
   "source": [
    "model = algo.fit(X_train,y_train)"
   ]
  },
  {
   "cell_type": "code",
   "execution_count": 21,
   "id": "a495d612",
   "metadata": {},
   "outputs": [
    {
     "data": {
      "text/plain": [
       "LinearRegression()"
      ]
     },
     "execution_count": 21,
     "metadata": {},
     "output_type": "execute_result"
    }
   ],
   "source": [
    "model"
   ]
  },
  {
   "cell_type": "code",
   "execution_count": 22,
   "id": "a8216e7f",
   "metadata": {},
   "outputs": [
    {
     "data": {
      "text/plain": [
       "array([115554.13841632, 202761.42885141, 169382.52008667, ...,\n",
       "        76469.38549889, 205253.92663572, 197364.24512059])"
      ]
     },
     "execution_count": 22,
     "metadata": {},
     "output_type": "execute_result"
    }
   ],
   "source": [
    "predictions = model.predict(X_test)\n",
    "predictions"
   ]
  },
  {
   "cell_type": "code",
   "execution_count": 23,
   "id": "6d8b0b8e",
   "metadata": {},
   "outputs": [],
   "source": [
    "from sklearn.metrics import mean_squared_error\n",
    "from sklearn.metrics import r2_score"
   ]
  },
  {
   "cell_type": "code",
   "execution_count": 24,
   "id": "2976da25",
   "metadata": {},
   "outputs": [],
   "source": [
    "from math import sqrt"
   ]
  },
  {
   "cell_type": "code",
   "execution_count": 25,
   "id": "eea9c779",
   "metadata": {},
   "outputs": [],
   "source": [
    "rmse = sqrt(mean_squared_error(y_test, predictions))"
   ]
  },
  {
   "cell_type": "code",
   "execution_count": 26,
   "id": "904e8450",
   "metadata": {},
   "outputs": [
    {
     "data": {
      "text/plain": [
       "110971.99637303999"
      ]
     },
     "execution_count": 26,
     "metadata": {},
     "output_type": "execute_result"
    }
   ],
   "source": [
    "rmse"
   ]
  },
  {
   "cell_type": "code",
   "execution_count": 27,
   "id": "0b58b58d",
   "metadata": {},
   "outputs": [],
   "source": [
    "predRsquared = r2_score(y_test,predictions)"
   ]
  },
  {
   "cell_type": "code",
   "execution_count": 28,
   "id": "7964428a",
   "metadata": {},
   "outputs": [
    {
     "data": {
      "text/plain": [
       "0.2756154732044883"
      ]
     },
     "execution_count": 28,
     "metadata": {},
     "output_type": "execute_result"
    }
   ],
   "source": [
    "predRsquared"
   ]
  },
  {
   "cell_type": "code",
   "execution_count": 29,
   "id": "247654e8",
   "metadata": {},
   "outputs": [
    {
     "name": "stdout",
     "output_type": "stream",
     "text": [
      "R Squared: 0.276\n",
      "RMSE: 110971.996\n"
     ]
    }
   ],
   "source": [
    "predictions = model.predict(X_test)\n",
    "predRsquared = r2_score(y_test,predictions)\n",
    "rmse = sqrt(mean_squared_error(y_test, predictions))\n",
    "print('R Squared: %.3f' % predRsquared)\n",
    "print('RMSE: %.3f' % rmse)"
   ]
  },
  {
   "cell_type": "code",
   "execution_count": 30,
   "id": "f2221b90",
   "metadata": {},
   "outputs": [
    {
     "data": {
      "image/png": "[encoded data removed]",
      "text/plain": [
       "<Figure size 432x288 with 2 Axes>"
      ]
     },
     "metadata": {
      "needs_background": "light"
     },
     "output_type": "display_data"
    }
   ],
   "source": [
    "import pandas as pd\n",
    "import seaborn as sns\n",
    "import matplotlib.pyplot as plt\n",
    "\n",
    "df = rawData.iloc[:, 5:15]\n",
    "matrix = df.corr().round(2)\n",
    "sns.heatmap(matrix, annot=True)\n",
    "plt.show()"
   ]
  },
  {
   "cell_type": "code",
   "execution_count": 31,
   "id": "2864b313",
   "metadata": {},
   "outputs": [
    {
     "data": {
      "text/plain": [
       "0         20000\n",
       "1        120000\n",
       "2         90000\n",
       "3         50000\n",
       "4         50000\n",
       "          ...  \n",
       "29995    220000\n",
       "29996    150000\n",
       "29997     30000\n",
       "29998     80000\n",
       "29999     50000\n",
       "Name: LIMIT_BAL, Length: 30000, dtype: int64"
      ]
     },
     "execution_count": 31,
     "metadata": {},
     "output_type": "execute_result"
    }
   ],
   "source": [
    "rawData[\"LIMIT_BAL\"]"
   ]
  },
  {
   "cell_type": "code",
   "execution_count": 32,
   "id": "5b494d18",
   "metadata": {},
   "outputs": [
    {
     "data": {
      "text/plain": [
       "10000"
      ]
     },
     "execution_count": 32,
     "metadata": {},
     "output_type": "execute_result"
    }
   ],
   "source": [
    "min(rawData[\"LIMIT_BAL\"])"
   ]
  },
  {
   "cell_type": "code",
   "execution_count": 33,
   "id": "33a05d51",
   "metadata": {},
   "outputs": [
    {
     "name": "stdout",
     "output_type": "stream",
     "text": [
      "            ID  LIMIT_BAL     SEX    EDUCATION  MARRIAGE  AGE  PAY_0  PAY_2  \\\n",
      "0          1.0      20000  female   university         1   24      2      2   \n",
      "1          2.0     120000  female   university         2   26     -1      2   \n",
      "2          3.0      90000  female   university         2   34      0      0   \n",
      "3          4.0      50000  female   university         1   37      0      0   \n",
      "4          5.0      50000    male   university         1   57     -1      0   \n",
      "...        ...        ...     ...          ...       ...  ...    ...    ...   \n",
      "29995  29996.0     220000    male  high school         1   39      0      0   \n",
      "29996  29997.0     150000    male  high school         2   43     -1     -1   \n",
      "29997  29998.0      30000    male   university         2   37      4      3   \n",
      "29998  29999.0      80000    male  high school         1   41      1     -1   \n",
      "29999  30000.0      50000    male   university         1   46      0      0   \n",
      "\n",
      "       PAY_3  PAY_4  ...  BILL_AMT5  BILL_AMT6  PAY_AMT1  PAY_AMT2  PAY_AMT3  \\\n",
      "0         -1     -1  ...          0          0         0       689         0   \n",
      "1          0      0  ...       3455       3261         0      1000      1000   \n",
      "2          0      0  ...      14948      15549      1518      1500      1000   \n",
      "3          0      0  ...      28959      29547      2000      2019      1200   \n",
      "4         -1      0  ...      19146      19131      2000     36681     10000   \n",
      "...      ...    ...  ...        ...        ...       ...       ...       ...   \n",
      "29995      0      0  ...      31237      15980      8500     20000      5003   \n",
      "29996     -1     -1  ...       5190          0      1837      3526      8998   \n",
      "29997      2     -1  ...      20582      19357         0         0     22000   \n",
      "29998      0      0  ...      11855      48944     85900      3409      1178   \n",
      "29999      0      0  ...      32428      15313      2078      1800      1430   \n",
      "\n",
      "       PAY_AMT4  PAY_AMT5  PAY_AMT6  default payment next month  \\\n",
      "0             0         0         0                     default   \n",
      "1          1000         0      2000                     default   \n",
      "2          1000      1000      5000                 not default   \n",
      "3          1100      1069      1000                 not default   \n",
      "4          9000       689       679                 not default   \n",
      "...         ...       ...       ...                         ...   \n",
      "29995      3047      5000      1000                 not default   \n",
      "29996       129         0         0                 not default   \n",
      "29997      4200      2000      3100                     default   \n",
      "29998      1926     52964      1804                     default   \n",
      "29999      1000      1000      1000                     default   \n",
      "\n",
      "       LIMIT_BAL_Labelnew  \n",
      "0                       2  \n",
      "1                       1  \n",
      "2                       1  \n",
      "3                       2  \n",
      "4                       2  \n",
      "...                   ...  \n",
      "29995                   1  \n",
      "29996                   1  \n",
      "29997                   2  \n",
      "29998                   2  \n",
      "29999                   2  \n",
      "\n",
      "[30000 rows x 26 columns]\n"
     ]
    }
   ],
   "source": [
    "import pandas as pd\n",
    "\n",
    "# Load data into a Pandas dataframe\n",
    "##here\n",
    "#min_val = rawData[\"LIMIT_BAL\"].min()\n",
    "#max_val = rawData[\"LIMIT_BAL\"].max()\n",
    "\n",
    "#bins=[5]\n",
    "\n",
    "##50000 is cutoff, <50000 is label 1, >50000 is label 2\n",
    "x = 80000\n",
    "y = 80000\n",
    "\n",
    "rawData['LIMIT_BAL_Labelnew'] =rawData['LIMIT_BAL'].where(rawData['LIMIT_BAL'] <= x, 1).where(rawData['LIMIT_BAL'] > x, 2).fillna(0)\n",
    "\n",
    "#df['discrete_col'] = df['col'].where(df['col'] < x, 1).fillna(0)\n",
    "\n",
    "\n",
    "# create a new column with three bins\n",
    "#rawData['LIMIT_BAL_Labelnew'] = rawData['LIMIT_BAL'].where(rawData['LIMIT_BAL'] <= x, 'low')\n",
    "#rawData['LIMIT_BAL_Labelnew'] = rawData['LIMIT_BAL_Labelnew'].where((rawData['LIMIT_BAL'] > x) & (rawData['LIMIT_BAL'] <= y), 'medium')\n",
    "#rawData['LIMIT_BAL_Labelnew'] = rawData['LIMIT_BAL_Labelnew'].where(rawData['LIMIT_BAL'] > y, 'high')\n",
    "\n",
    "# print the dataframe\n",
    "print(rawData)\n"
   ]
  },
  {
   "cell_type": "code",
   "execution_count": 34,
   "id": "3464d733",
   "metadata": {},
   "outputs": [
    {
     "data": {
      "text/plain": [
       "0         20000\n",
       "1        120000\n",
       "2         90000\n",
       "3         50000\n",
       "4         50000\n",
       "          ...  \n",
       "29995    220000\n",
       "29996    150000\n",
       "29997     30000\n",
       "29998     80000\n",
       "29999     50000\n",
       "Name: LIMIT_BAL, Length: 30000, dtype: int64"
      ]
     },
     "execution_count": 34,
     "metadata": {},
     "output_type": "execute_result"
    }
   ],
   "source": [
    "rawData['LIMIT_BAL']"
   ]
  },
  {
   "cell_type": "code",
   "execution_count": 35,
   "id": "4b5fad22",
   "metadata": {},
   "outputs": [
    {
     "data": {
      "text/plain": [
       "array([2, 1])"
      ]
     },
     "execution_count": 35,
     "metadata": {},
     "output_type": "execute_result"
    }
   ],
   "source": [
    "rawData['LIMIT_BAL_Labelnew'].unique()"
   ]
  },
  {
   "cell_type": "code",
   "execution_count": 36,
   "id": "f00ffc72",
   "metadata": {},
   "outputs": [],
   "source": [
    "X = rawData.iloc[:, 5:20]\n",
    "y=rawData.iloc[:,25]\n"
   ]
  },
  {
   "cell_type": "code",
   "execution_count": 37,
   "id": "6c205f3f",
   "metadata": {},
   "outputs": [
    {
     "data": {
      "text/plain": [
       "25"
      ]
     },
     "execution_count": 37,
     "metadata": {},
     "output_type": "execute_result"
    }
   ],
   "source": [
    "rawData.columns.get_loc(\"LIMIT_BAL_Labelnew\")"
   ]
  },
  {
   "cell_type": "code",
   "execution_count": 38,
   "id": "33452c86",
   "metadata": {},
   "outputs": [],
   "source": [
    "X_train, X_test, y_train, y_test = train_test_split(X, y, test_size=0.25, random_state=42)"
   ]
  },
  {
   "cell_type": "code",
   "execution_count": 39,
   "id": "91fdb844",
   "metadata": {},
   "outputs": [],
   "source": [
    "from sklearn.tree import DecisionTreeClassifier\n",
    "from sklearn.model_selection import train_test_split\n",
    "\n",
    "# Train the classifier\n",
    "clf = DecisionTreeClassifier()\n",
    "clf.fit(X_train, y_train)\n",
    "\n",
    "# Test the classifier\n",
    "y_predn = clf.predict(X_test)"
   ]
  },
  {
   "cell_type": "code",
   "execution_count": 41,
   "id": "a890f9d3",
   "metadata": {},
   "outputs": [
    {
     "name": "stdout",
     "output_type": "stream",
     "text": [
      "Accuracy: 0.76\n"
     ]
    }
   ],
   "source": [
    "from sklearn.metrics import accuracy_score\n",
    "\n",
    "# Calculate the accuracy\n",
    "accuracy_Lim_Bal1 = accuracy_score(y_test, y_predn)\n",
    "\n",
    "print(\"Accuracy: {:.2f}\".format(accuracy_Lim_Bal1))"
   ]
  },
  {
   "cell_type": "code",
   "execution_count": 43,
   "id": "ccbc1ffe",
   "metadata": {},
   "outputs": [],
   "source": [
    "from sklearn.svm import SVC\n",
    "\n",
    "\n",
    "# Train the classifier\n",
    "clf1 = SVC()\n",
    "clf1.fit(X_train, y_train)\n",
    "\n",
    "# Test the classifier\n",
    "y_pred1 = clf.predict(X_test)"
   ]
  },
  {
   "cell_type": "code",
   "execution_count": 44,
   "id": "faae9e68",
   "metadata": {},
   "outputs": [
    {
     "name": "stdout",
     "output_type": "stream",
     "text": [
      "Accuracy: 0.76\n"
     ]
    }
   ],
   "source": [
    "from sklearn.metrics import accuracy_score\n",
    "\n",
    "# Calculate the accuracy\n",
    "accuracy_Lim_Bal2 = accuracy_score(y_test, y_pred1)\n",
    "\n",
    "print(\"Accuracy: {:.2f}\".format(accuracy_Lim_Bal2))"
   ]
  },
  {
   "cell_type": "code",
   "execution_count": null,
   "id": "0fee4b54",
   "metadata": {},
   "outputs": [],
   "source": [
    "y_pred1[154]"
   ]
  },
  {
   "cell_type": "code",
   "execution_count": null,
   "id": "bb5cc446",
   "metadata": {},
   "outputs": [],
   "source": [
    "np.where(y_pred1==1)"
   ]
  },
  {
   "cell_type": "code",
   "execution_count": 45,
   "id": "a696e48c",
   "metadata": {},
   "outputs": [],
   "source": [
    "X1 = rawData.iloc[:, 5:20]\n",
    "y1=rawData.iloc[:,24]\n"
   ]
  },
  {
   "cell_type": "code",
   "execution_count": 46,
   "id": "0eb90ba7",
   "metadata": {},
   "outputs": [
    {
     "data": {
      "text/plain": [
       "24"
      ]
     },
     "execution_count": 46,
     "metadata": {},
     "output_type": "execute_result"
    }
   ],
   "source": [
    "rawData.columns.get_loc(\"default payment next month\")"
   ]
  },
  {
   "cell_type": "code",
   "execution_count": 47,
   "id": "c097b708",
   "metadata": {},
   "outputs": [],
   "source": [
    "X_train1, X_test1, y_train1, y_test1 = train_test_split(X1, y1, test_size=0.25, random_state=42)"
   ]
  },
  {
   "cell_type": "code",
   "execution_count": 48,
   "id": "79a01799",
   "metadata": {},
   "outputs": [
    {
     "data": {
      "text/plain": [
       "2308     not default\n",
       "22404    not default\n",
       "23397    not default\n",
       "25058    not default\n",
       "2664         default\n",
       "            ...     \n",
       "3211     not default\n",
       "9355     not default\n",
       "28201        default\n",
       "19705        default\n",
       "28313    not default\n",
       "Name: default payment next month, Length: 7500, dtype: object"
      ]
     },
     "execution_count": 48,
     "metadata": {},
     "output_type": "execute_result"
    }
   ],
   "source": [
    "from sklearn.tree import DecisionTreeClassifier\n",
    "from sklearn.model_selection import train_test_split\n",
    "\n",
    "# Train the classifier\n",
    "clf = DecisionTreeClassifier()\n",
    "clf.fit(X_train1, y_train1)\n",
    "\n",
    "# Test the classifier\n",
    "y_pred1 = clf.predict(X_test1)\n",
    "y_test1\n"
   ]
  },
  {
   "cell_type": "code",
   "execution_count": 49,
   "id": "cdfdf081",
   "metadata": {},
   "outputs": [
    {
     "name": "stdout",
     "output_type": "stream",
     "text": [
      "Accuracy: 0.72\n"
     ]
    }
   ],
   "source": [
    "from sklearn.metrics import accuracy_score\n",
    "\n",
    "# Calculate the accuracy\n",
    "accuracy_Default1 = accuracy_score(y_test1, y_pred1)\n",
    "\n",
    "print(\"Accuracy: {:.2f}\".format(accuracy_Default1))"
   ]
  },
  {
   "cell_type": "code",
   "execution_count": 50,
   "id": "b382c209",
   "metadata": {},
   "outputs": [],
   "source": [
    "from sklearn.svm import SVC\n",
    "\n",
    "\n",
    "# Train the classifier\n",
    "clf1 = SVC()\n",
    "clf1.fit(X_train1, y_train1)\n",
    "\n",
    "# Test the classifier\n",
    "y_pred2 = clf.predict(X_test1)"
   ]
  },
  {
   "cell_type": "code",
   "execution_count": 51,
   "id": "1248363e",
   "metadata": {},
   "outputs": [
    {
     "name": "stdout",
     "output_type": "stream",
     "text": [
      "Accuracy: 0.72\n"
     ]
    }
   ],
   "source": [
    "from sklearn.metrics import accuracy_score\n",
    "\n",
    "# Calculate the accuracy\n",
    "accuracy_Default2 = accuracy_score(y_test1, y_pred2)\n",
    "\n",
    "print(\"Accuracy: {:.2f}\".format(accuracy_Default2))"
   ]
  },
  {
   "cell_type": "code",
   "execution_count": 55,
   "id": "e8003617",
   "metadata": {},
   "outputs": [
    {
     "data": {
      "image/png": "[encoded data removed]",
      "text/plain": [
       "<Figure size 432x288 with 1 Axes>"
      ]
     },
     "metadata": {
      "needs_background": "light"
     },
     "output_type": "display_data"
    }
   ],
   "source": [
    "import matplotlib.pyplot as plt\n",
    "\n",
    "# assume that the accuracy scores are stored in variables called 'accuracy_1' and 'accuracy_2'\n",
    "\n",
    "# create a figure and axis\n",
    "fig, ax = plt.subplots()\n",
    "\n",
    "# plot the first accuracy score as a horizontal bar\n",
    "ax.barh(y=0, width=accuracy_Default1, height=1, label='Default_Accuracy')\n",
    "\n",
    "# plot the second accuracy score as a horizontal bar\n",
    "ax.barh(y=1, width=accuracy_Lim_Bal1, height=1, label='Lim_Bal_Accuracy')\n",
    "\n",
    "# set the x-axis limits\n",
    "ax.set_xlim(0, 1)\n",
    "\n",
    "# set the x-axis tick labels\n",
    "ax.set_xticks([0, 0.2, 0.4, 0.6, 0.8, 1.0])\n",
    "\n",
    "# set the y-axis tick labels\n",
    "ax.set_yticks([0, 1])\n",
    "ax.set_yticklabels(['DecisionTreeClassifier', 'DecisionTreeClassifier'])\n",
    "\n",
    "# set the x-axis label\n",
    "ax.set_xlabel('Accuracy Score')\n",
    "\n",
    "# show the legend\n",
    "ax.legend()\n",
    "\n",
    "# show the plot\n",
    "plt.show()"
   ]
  },
  {
   "cell_type": "code",
   "execution_count": 53,
   "id": "4d956023",
   "metadata": {},
   "outputs": [],
   "source": [
    "plt.show()"
   ]
  },
  {
   "cell_type": "code",
   "execution_count": 56,
   "id": "3959da66",
   "metadata": {},
   "outputs": [
    {
     "data": {
      "image/png": "[encoded data removed]",
      "text/plain": [
       "<Figure size 432x288 with 1 Axes>"
      ]
     },
     "metadata": {
      "needs_background": "light"
     },
     "output_type": "display_data"
    }
   ],
   "source": [
    "import matplotlib.pyplot as plt\n",
    "\n",
    "# assume that the accuracy scores are stored in variables called 'accuracy_1' and 'accuracy_2'\n",
    "\n",
    "# create a figure and axis\n",
    "fig, ax = plt.subplots()\n",
    "\n",
    "# plot the first accuracy score as a horizontal bar\n",
    "ax.barh(y=0, width=accuracy_Default2, height=1, label='Default_Accuracy')\n",
    "\n",
    "# plot the second accuracy score as a horizontal bar\n",
    "ax.barh(y=1, width=accuracy_Lim_Bal2, height=1, label='Lim_Bal_Accuracy')\n",
    "\n",
    "# set the x-axis limits\n",
    "ax.set_xlim(0, 1)\n",
    "\n",
    "# set the x-axis tick labels\n",
    "ax.set_xticks([0, 0.2, 0.4, 0.6, 0.8, 1.0])\n",
    "\n",
    "# set the y-axis tick labels\n",
    "ax.set_yticks([0, 1])\n",
    "ax.set_yticklabels(['SVC', 'SVC'])\n",
    "\n",
    "# set the x-axis label\n",
    "ax.set_xlabel('Accuracy Score')\n",
    "\n",
    "# show the legend\n",
    "ax.legend()\n",
    "\n",
    "# show the plot\n",
    "plt.show()"
   ]
  },
  {
   "cell_type": "code",
   "execution_count": null,
   "id": "151e7c0c",
   "metadata": {},
   "outputs": [],
   "source": []
  }
 ],
 "metadata": {
  "kernelspec": {
   "display_name": "Python 3 (ipykernel)",
   "language": "python",
   "name": "python3"
  },
  "language_info": {
   "codemirror_mode": {
    "name": "ipython",
    "version": 3
   },
   "file_extension": ".py",
   "mimetype": "text/x-python",
   "name": "python",
   "nbconvert_exporter": "python",
   "pygments_lexer": "ipython3",
   "version": "3.9.7"
  }
 },
 "nbformat": 4,
 "nbformat_minor": 5
}
